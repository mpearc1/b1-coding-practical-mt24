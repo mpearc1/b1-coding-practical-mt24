{
 "cells": [
  {
   "cell_type": "code",
   "execution_count": 1,
   "metadata": {},
   "outputs": [],
   "source": [
    "# Add relevant Jupyter notebook extensions "
   ]
  },
  {
   "cell_type": "code",
   "execution_count": 2,
   "metadata": {},
   "outputs": [
    {
     "name": "stdout",
     "output_type": "stream",
     "text": [
      "['/Library/Frameworks/Python.framework/Versions/3.12/lib/python312.zip', '/Library/Frameworks/Python.framework/Versions/3.12/lib/python3.12', '/Library/Frameworks/Python.framework/Versions/3.12/lib/python3.12/lib-dynload', '', '/Users/user/Documents/b1-coding-practical-mt24/.venv/lib/python3.12/site-packages']\n"
     ]
    }
   ],
   "source": [
    "# You can double-check your Python path like this...\n",
    "import sys  \n",
    "print(sys.path)"
   ]
  },
  {
   "cell_type": "markdown",
   "metadata": {},
   "source": [
    "# Simulate closed-loop\n",
    "After implementing your control functionality, you can simulate the closed-loop with code that looks something like this..."
   ]
  },
  {
   "cell_type": "code",
   "execution_count": 3,
   "metadata": {},
   "outputs": [
    {
     "ename": "NameError",
     "evalue": "name 'Submarine' is not defined",
     "output_type": "error",
     "traceback": [
      "\u001b[0;31m---------------------------------------------------------------------------\u001b[0m",
      "\u001b[0;31mNameError\u001b[0m                                 Traceback (most recent call last)",
      "Cell \u001b[0;32mIn[3], line 3\u001b[0m\n\u001b[1;32m      1\u001b[0m \u001b[38;5;66;03m# Import relevant modules\u001b[39;00m\n\u001b[0;32m----> 3\u001b[0m sub \u001b[38;5;241m=\u001b[39m \u001b[43mSubmarine\u001b[49m()\n\u001b[1;32m      4\u001b[0m \u001b[38;5;66;03m# Instantiate your controller (depending on your implementation)\u001b[39;00m\n\u001b[1;32m      5\u001b[0m closed_loop \u001b[38;5;241m=\u001b[39m ClosedLoop(sub, controller)\n",
      "\u001b[0;31mNameError\u001b[0m: name 'Submarine' is not defined"
     ]
    }
   ],
   "source": [
    "# Add the parent directory to the path\n",
    "import sys\n",
    "import os\n",
    "sys.path.append(os.path.abspath('..'))  # Add the parent directory\n",
    "\n",
    "# Import relevant modules\n",
    "import numpy as np\n",
    "import pandas as pd\n",
    "from uuv_mission.dynamic import Submarine, Mission, ClosedLoop, PDController\n",
    "\n",
    "from uuv_mission.terrain import plot_reference_and_terrain\n",
    "\n",
    "# Instantiate your submarine and PD controller\n",
    "sub = Submarine()\n",
    "controller = PDController(KP=0.2, KD=0.5)  # Use the PD gains you defined\n",
    "closed_loop = ClosedLoop(sub, controller)\n",
    "\n",
    "# Load the mission data from the CSV file\n",
    "mission = Mission.from_csv(\"../data/mission.csv\")  # Adjust the path to the mission.csv file\n",
    "\n",
    "# Simulate with random disturbances\n",
    "trajectory = closed_loop.simulate_with_random_disturbances(mission)\n",
    "\n",
    "# Plot the completed mission\n",
    "trajectory.plot_completed_mission(mission)\n"
   ]
  }
 ],
 "metadata": {
  "kernelspec": {
   "display_name": ".venv",
   "language": "python",
   "name": "python3"
  },
  "language_info": {
   "codemirror_mode": {
    "name": "ipython",
    "version": 3
   },
   "file_extension": ".py",
   "mimetype": "text/x-python",
   "name": "python",
   "nbconvert_exporter": "python",
   "pygments_lexer": "ipython3",
   "version": "3.12.1"
  }
 },
 "nbformat": 4,
 "nbformat_minor": 2
}
